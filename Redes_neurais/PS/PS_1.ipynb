{
 "cells": [
  {
   "cell_type": "code",
   "execution_count": 25,
   "metadata": {},
   "outputs": [],
   "source": [
    "import numpy as np\n",
    "\n",
    "# Exemplo Porta AND\n",
    "\n",
    "# Criar o meu vetor de caracteristicas\n",
    "\n",
    "# nota: x0 é uma variável dummy e vai servir como fator de bias.\n",
    "# x0  x1  x2\n",
    "x = [[1., 0., 0.],\n",
    "     [1., 0., 1.],\n",
    "     [1., 1., 0],\n",
    "     [1., 1., 1.]]\n",
    "\n",
    "# vetor com as saídas desejadas\n",
    "\n",
    "y = [1., 0., 0., 0]\n",
    "\n",
    "# vamos criar a função do perceptron simples\n",
    "\n",
    "# x: dados de entrada\n",
    "# y: saída\n",
    "# z: Threshold(limiar)\n",
    "# eta: Taxa de aprendizado\n",
    "# t: épocas ou número de iterações"
   ]
  },
  {
   "cell_type": "code",
   "execution_count": 26,
   "metadata": {},
   "outputs": [],
   "source": [
    "def perceptron_treina(x, y, z, eta, t):\n",
    "    # inicializando o vetor de pesos\n",
    "    w = np.zeros(len(x[0]))\n",
    "\n",
    "    # valor de inicio da iteração\n",
    "\n",
    "    n = 0\n",
    "\n",
    "    # criando o vetor de resposta de saída da rede\n",
    "\n",
    "    ychapeu_vet = np.ones(len(y))\n",
    "\n",
    "    # criando o vetor de erros\n",
    "\n",
    "    error = np.ones(len(y))\n",
    "\n",
    "    # vetor J que irá receber o resultado do erro do treinamento.\n",
    "\n",
    "    J = []\n",
    "\n",
    "    while n < t:\n",
    "        print(n)\n",
    "        for i in range(0, len(x)):\n",
    "\n",
    "            # processo de somatório dos pesos com os dados de entrada\n",
    "\n",
    "            f = np.dot(x[i], w)\n",
    "\n",
    "            # condicional da função de ativação\n",
    "\n",
    "            if f > z:\n",
    "                ychapeu = 1\n",
    "            else:\n",
    "                ychapeu = 0\n",
    "\n",
    "            ychapeu_vet[i] = ychapeu\n",
    "\n",
    "            # atualização dos pesos\n",
    "\n",
    "            for j in range(0, len(w)):\n",
    "\n",
    "                w[j] = w[j] + eta*(y[i] - ychapeu)*x[i][j]\n",
    "\n",
    "            n += 1\n",
    "        # calculado a soma dos erros quadraticos médios\n",
    "\n",
    "        for i in range(0, len(y)):\n",
    "            error[i] = (y[i]-ychapeu_vet[i])**2\n",
    "        J.append(0.5*np.sum(error))\n",
    "    return w, J"
   ]
  },
  {
   "cell_type": "code",
   "execution_count": 27,
   "metadata": {},
   "outputs": [
    {
     "name": "stdout",
     "output_type": "stream",
     "text": [
      "0\n",
      "4\n",
      "8\n",
      "12\n",
      "16\n",
      "20\n",
      "24\n",
      "28\n",
      "32\n",
      "36\n",
      "40\n",
      "44\n",
      "48\n",
      "Vetor de pesos:\n",
      "[ 0.5 -0.5 -0.5] \n",
      "\n",
      "A soma dos erros quadraticos é:\n",
      "[1.0, 1.0, 0.5, 0.0, 0.0, 0.0, 0.0, 0.0, 0.0, 0.0, 0.0, 0.0, 0.0]\n"
     ]
    }
   ],
   "source": [
    "z = 0.0\n",
    "eta = 0.5\n",
    "t = 50\n",
    "\n",
    "resultado = perceptron_treina(x, y, z, eta, t)\n",
    "print(\"Vetor de pesos:\")\n",
    "print(resultado[0], \"\\n\")\n",
    "\n",
    "print(\"A soma dos erros quadraticos é:\")\n",
    "print(resultado[1])"
   ]
  },
  {
   "cell_type": "code",
   "execution_count": null,
   "metadata": {},
   "outputs": [],
   "source": [
    "a = 'a'"
   ]
  }
 ],
 "metadata": {
  "kernelspec": {
   "display_name": "base",
   "language": "python",
   "name": "python3"
  },
  "language_info": {
   "codemirror_mode": {
    "name": "ipython",
    "version": 3
   },
   "file_extension": ".py",
   "mimetype": "text/x-python",
   "name": "python",
   "nbconvert_exporter": "python",
   "pygments_lexer": "ipython3",
   "version": "3.9.13"
  },
  "orig_nbformat": 4
 },
 "nbformat": 4,
 "nbformat_minor": 2
}
