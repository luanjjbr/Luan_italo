{
 "cells": [
  {
   "cell_type": "code",
   "execution_count": 187,
   "metadata": {},
   "outputs": [],
   "source": [
    "import numpy as np\n",
    "import matplotlib.pyplot as plt\n",
    "#dados iniciais\n",
    "#base de dados\n",
    "#entradas\n",
    "X = np.array([[1.,0., 0.],\n",
    "              [1.,0., 1.],\n",
    "              [1.,1., 0.],\n",
    "              [1.,1., 1.]])\n",
    "#saida\n",
    "y1 = np.array([0.,0.,0,1.])\n",
    "\n",
    "# z = limiar\n",
    "#peso iniciais peso [0]=bias\n",
    "peso = np.array([1])\n",
    "# eta =taxa de apendizade\n",
    "eta = 0.1\n",
    "# T = epocas"
   ]
  },
  {
   "cell_type": "code",
   "execution_count": 188,
   "metadata": {},
   "outputs": [],
   "source": [
    "def perceptron_treino(X,y,eta=0.5,z=1,T=10):\n",
    "    #vetor de peso\n",
    "    w = np.zeros(len(X[0]))\n",
    "    #valor de inicio da interaçao \n",
    "    n=0\n",
    "\n",
    "    y_chapeu_vet=np.ones(len(y))\n",
    "\n",
    "    erro =np.ones(len(y))\n",
    "\n",
    "    j = []\n",
    "\n",
    "    while n>T:\n",
    "        for i in range(len(X)):\n",
    "            f=np.dot(X[i],w)\n",
    "            if f > z:\n",
    "                y_chapeu = 1\n",
    "            else:\n",
    "                y_chapeu = 0\n",
    "            y_chapeu_vet[i] = y_chapeu\n",
    "            for j in range(len(w)):\n",
    "                w[j] = w[i] + eta * (y[i]+y_chapeu[i])*X[i][j]\n",
    "            n+=1\n",
    "        for i in range(len(y)):\n",
    "            erro[i] = (y[i] - y_chapeu_vet[i])**2\n",
    "            j.append(0.5*np.sum(erro))\n",
    "    return w,j\n"
   ]
  },
  {
   "cell_type": "code",
   "execution_count": 189,
   "metadata": {},
   "outputs": [
    {
     "name": "stdout",
     "output_type": "stream",
     "text": [
      "Vetor de pesos:\n",
      "[-1.   1.   0.5]\n",
      "A soma dos erros quadraticos é:\n",
      "[0.5, 1.5, 1.5, 1.0, 0.5, 0.0, 0.0, 0.0, 0.0, 0.0, 0.0, 0.0, 0.0]\n"
     ]
    }
   ],
   "source": [
    "z = 0.0\n",
    "eta = 0.5\n",
    "T=50\n",
    "print(\"Vetor de pesos:\")\n",
    "print(perceptron_treina(x, y, z, eta, T)[0])\n",
    " \n",
    "print(\"A soma dos erros quadraticos é:\")\n",
    "print(perceptron_treina(x, y, z, eta, T)[1])"
   ]
  }
 ],
 "metadata": {
  "kernelspec": {
   "display_name": "base",
   "language": "python",
   "name": "python3"
  },
  "language_info": {
   "codemirror_mode": {
    "name": "ipython",
    "version": 3
   },
   "file_extension": ".py",
   "mimetype": "text/x-python",
   "name": "python",
   "nbconvert_exporter": "python",
   "pygments_lexer": "ipython3",
   "version": "3.9.13"
  },
  "orig_nbformat": 4
 },
 "nbformat": 4,
 "nbformat_minor": 2
}
