{
 "cells": [
  {
   "cell_type": "code",
   "execution_count": 42,
   "metadata": {},
   "outputs": [],
   "source": [
    "import numpy as np\n",
    "#funçao para doma ponderad\n",
    "#u = x0*w0 + x1*w1 + x2*w2 - 1*0\n",
    "#m = x0*w0 + x1*w1 + x2*w2\n",
    "#u = m - 1*0\n",
    "def somapondera2(X,w,bias):\n",
    "    m=np.multiply(X,w)\n",
    "    u = np.sum(m) -1 * bias\n",
    "    return u\n",
    "#funçao de  ativaçao\n",
    "#funçao degrau\n",
    "def fucaoAtivacao(u):\n",
    "    if u >= 0:\n",
    "        return 1\n",
    "    else:\n",
    "        return -1\n",
    "\n",
    "#funçao de saida\n",
    "def saida(x,w,bias):\n",
    "    u = somapondera2(x,w,bias)\n",
    "    return fucaoAtivacao(u)\n",
    "\n",
    "#funçao para ajustes dos pesos\n",
    "#parte cententral do processo de aprendizagem\n",
    "# novo wi -> wi = wiA(anterior) + n(taxa de apendizade) xi(valor de entrada) ( d (valor desejado) - y(obitido) )\n",
    "#wi = wiA + n * xi * (d - y)\n",
    "def ajuste_Pesos(eta, w ,x ,bias , d , y):\n",
    "    e = d - y\n",
    "    novoW=  w + eta * x * e\n",
    "    novoB= bias + eta * (-1) * e\n",
    "    return novoW , novoB"
   ]
  },
  {
   "cell_type": "code",
   "execution_count": 48,
   "metadata": {},
   "outputs": [],
   "source": [
    "#dados iniciais\n",
    "#vase de dados\n",
    "#classee -1\n",
    "A= np.array([0])\n",
    "#classee 1\n",
    "B = np.array([1])\n",
    "\n",
    "#peso iniciais peso [0]=bias\n",
    "peso = np.array([1])\n",
    "#taxa de apendizade\n",
    "eta = 0.1\n",
    "#vies\n",
    "bias = 0"
   ]
  },
  {
   "cell_type": "code",
   "execution_count": 57,
   "metadata": {},
   "outputs": [
    {
     "name": "stdout",
     "output_type": "stream",
     "text": [
      "-1\n",
      "peso 1:  [1.]\n",
      "bias 1:  0.2\n",
      "1\n",
      "peso 2:  [1.]\n",
      "bias 2:  0.2\n"
     ]
    }
   ],
   "source": [
    "#iteraçao 1\n",
    "#entrada 001 saida -1\n",
    "d= -1\n",
    "y = saida(A,peso,bias)\n",
    "print(y)\n",
    "#ajuste dos pesos\n",
    "peso,bias = ajuste_Pesos(eta,peso, A, bias , d , y)\n",
    "print(\"peso 1: \",peso)\n",
    "print(\"bias 1: \",bias)\n",
    "\n",
    "#entrada 110 saida +1\n",
    "d = 1\n",
    "y = saida(B,peso,bias)\n",
    "print(y)\n",
    "#ajuste dos pesos\n",
    "peso,bias= ajuste_Pesos(eta,peso, B, bias , d , y)\n",
    "print(\"peso 2: \",peso)\n",
    "print(\"bias 2: \",bias)"
   ]
  },
  {
   "cell_type": "code",
   "execution_count": 45,
   "metadata": {},
   "outputs": [
    {
     "name": "stdout",
     "output_type": "stream",
     "text": [
      "saida para  [1 0]  é  1\n"
     ]
    }
   ],
   "source": [
    "#teste\n",
    "T = np.array([1,0])\n",
    "print('saida para ',T,' é ', saida(T,peso,bias))"
   ]
  },
  {
   "cell_type": "code",
   "execution_count": 46,
   "metadata": {},
   "outputs": [
    {
     "name": "stdout",
     "output_type": "stream",
     "text": [
      "saida para  [0 0]  é  1\n"
     ]
    }
   ],
   "source": [
    "#teste\n",
    "T = np.array([0,0])\n",
    "print('saida para ',T,' é ', saida(T,peso,bias))"
   ]
  },
  {
   "cell_type": "code",
   "execution_count": 47,
   "metadata": {},
   "outputs": [
    {
     "data": {
      "image/png": "[encoded data removed]",
      "text/plain": [
       "<Figure size 640x480 with 1 Axes>"
      ]
     },
     "metadata": {},
     "output_type": "display_data"
    }
   ],
   "source": [
    "import matplotlib.pyplot as plt\n",
    "\n",
    "X = np.array([[0, 0], [0, 1], [1, 0], [1, 1]])\n",
    "y = np.array([0, 0, 0, 1])\n",
    "\n",
    "# plotar gráfico\n",
    "plt.scatter(X[:, 0], X[:, 1], c=y, cmap=plt.cm.Paired)\n",
    "\n",
    "# adicionar rótulos e título\n",
    "plt.grid()\n",
    "plt.xlabel('Entrada 1')\n",
    "plt.ylabel('Entrada 2')\n",
    "plt.title('Porta Lógica AND')\n",
    "\n",
    "# mostrar o gráfico\n",
    "plt.show()"
   ]
  }
 ],
 "metadata": {
  "kernelspec": {
   "display_name": "base",
   "language": "python",
   "name": "python3"
  },
  "language_info": {
   "codemirror_mode": {
    "name": "ipython",
    "version": 3
   },
   "file_extension": ".py",
   "mimetype": "text/x-python",
   "name": "python",
   "nbconvert_exporter": "python",
   "pygments_lexer": "ipython3",
   "version": "3.9.13"
  },
  "orig_nbformat": 4
 },
 "nbformat": 4,
 "nbformat_minor": 2
}
